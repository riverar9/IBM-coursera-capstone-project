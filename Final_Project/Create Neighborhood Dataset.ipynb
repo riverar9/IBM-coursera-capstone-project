{
    "cells": [
        {
            "cell_type": "markdown",
            "metadata": {
                "collapsed": true
            },
            "source": "# 0. Importing Libraries"
        },
        {
            "cell_type": "code",
            "execution_count": 1,
            "metadata": {},
            "outputs": [
                {
                    "name": "stdout",
                    "output_type": "stream",
                    "text": "Collecting bs4\n  Downloading bs4-0.0.1.tar.gz (1.1 kB)\nRequirement already satisfied: beautifulsoup4 in /opt/conda/envs/Python-3.7-main/lib/python3.7/site-packages (from bs4) (4.9.1)\nRequirement already satisfied: soupsieve>1.2 in /opt/conda/envs/Python-3.7-main/lib/python3.7/site-packages (from beautifulsoup4->bs4) (2.0.1)\nBuilding wheels for collected packages: bs4\n  Building wheel for bs4 (setup.py) ... \u001b[?25ldone\n\u001b[?25h  Created wheel for bs4: filename=bs4-0.0.1-py3-none-any.whl size=1272 sha256=ecfd893d6765deecf951cb91a9df7266b4912c7abaf4a68671c43aea84c31d3d\n  Stored in directory: /tmp/wsuser/.cache/pip/wheels/0a/9e/ba/20e5bbc1afef3a491f0b3bb74d508f99403aabe76eda2167ca\nSuccessfully built bs4\nInstalling collected packages: bs4\nSuccessfully installed bs4-0.0.1\n"
                }
            ],
            "source": "!pip install bs4\nimport requests\nfrom bs4 import BeautifulSoup\nimport pandas as pd\nimport geopy"
        },
        {
            "cell_type": "markdown",
            "metadata": {},
            "source": "# 1. Set up the scraping"
        },
        {
            "cell_type": "code",
            "execution_count": 11,
            "metadata": {},
            "outputs": [],
            "source": "# The airbnb page with the cities to scrape\nairbnb_neighborhood_url = 'https://www.airbnb.com/locations'\n\n# get the url text\ncity_page = requests.get(airbnb_neighborhood_url).text\n\n# convert webpage to a beautifulsoup object\nsoup = BeautifulSoup(city_page, 'html.parser')\n\n# print the html item in pretty form\nprint(soup.prettify())"
        },
        {
            "cell_type": "code",
            "execution_count": 104,
            "metadata": {},
            "outputs": [],
            "source": "# Inputs needed. The tags change on this site (probably to discourage scraping)\n\n# To get around this, search the previously printed soup and search for the h2 tag used for cities and the div tag used for neighborhoods.\n#    The easiest way is to look for \"Austin\" as a city and \"Barton Hills\" as a neighborhood\n\ncity_tag = '<h2 class=\"_1tz64lh\">'\nneighborhood_tag = '<div class=\"_17ajzb82\">'"
        },
        {
            "cell_type": "code",
            "execution_count": 109,
            "metadata": {},
            "outputs": [],
            "source": "# Convert the HTML to a list splitting by a tag open\nsite_html = soup.prettify().split('<')\n\n# Create an empty list for data\nmined_data = []\n\n# Iterate through each city and extract each neighborhood\nfor each_row in site_html:\n    if city_tag[1:] in each_row:\n        loop_city = each_row.replace(city_tag[1:],'').replace('  ','').replace('\\n','')[1:]\n    if neighborhood_tag[1:] in each_row:\n        loop_neighborhood = each_row.replace(neighborhood_tag[1:],'').replace('  ','').replace('\\n','')[:-1]\n        mined_data.append(\n            [loop_city, loop_neighborhood]\n        )"
        },
        {
            "cell_type": "code",
            "execution_count": 112,
            "metadata": {},
            "outputs": [
                {
                    "data": {
                        "text/html": "<div>\n<style scoped>\n    .dataframe tbody tr th:only-of-type {\n        vertical-align: middle;\n    }\n\n    .dataframe tbody tr th {\n        vertical-align: top;\n    }\n\n    .dataframe thead th {\n        text-align: right;\n    }\n</style>\n<table border=\"1\" class=\"dataframe\">\n  <thead>\n    <tr style=\"text-align: right;\">\n      <th></th>\n      <th>City</th>\n      <th>Neighborhood</th>\n    </tr>\n  </thead>\n  <tbody>\n    <tr>\n      <th>0</th>\n      <td>Austin</td>\n      <td>Barton Hills</td>\n    </tr>\n    <tr>\n      <th>1</th>\n      <td>Austin</td>\n      <td>Bouldin Creek</td>\n    </tr>\n    <tr>\n      <th>2</th>\n      <td>Austin</td>\n      <td>Clarksville</td>\n    </tr>\n    <tr>\n      <th>3</th>\n      <td>Austin</td>\n      <td>Dawson</td>\n    </tr>\n    <tr>\n      <th>4</th>\n      <td>Austin</td>\n      <td>Downtown</td>\n    </tr>\n  </tbody>\n</table>\n</div>",
                        "text/plain": "     City   Neighborhood\n0  Austin   Barton Hills\n1  Austin  Bouldin Creek\n2  Austin    Clarksville\n3  Austin         Dawson\n4  Austin       Downtown"
                    },
                    "execution_count": 112,
                    "metadata": {},
                    "output_type": "execute_result"
                }
            ],
            "source": "# Convert the mined data to a dataframe\ncities_neighborhoods_df = pd.DataFrame(mined_data, columns=['City','Neighborhood'])\n\n# Print the first 5 records of this dataframe\ncities_neighborhoods_df.head(5)"
        },
        {
            "cell_type": "code",
            "execution_count": 113,
            "metadata": {},
            "outputs": [],
            "source": "# Save this dataframe in the same location as this script\ncities_neighborhoods_df.to_csv('cities_list.csv')"
        },
        {
            "cell_type": "code",
            "execution_count": null,
            "metadata": {},
            "outputs": [],
            "source": ""
        }
    ],
    "metadata": {
        "kernelspec": {
            "display_name": "Python 3.7",
            "language": "python",
            "name": "python3"
        },
        "language_info": {
            "codemirror_mode": {
                "name": "ipython",
                "version": 3
            },
            "file_extension": ".py",
            "mimetype": "text/x-python",
            "name": "python",
            "nbconvert_exporter": "python",
            "pygments_lexer": "ipython3",
            "version": "3.7.9"
        }
    },
    "nbformat": 4,
    "nbformat_minor": 1
}
