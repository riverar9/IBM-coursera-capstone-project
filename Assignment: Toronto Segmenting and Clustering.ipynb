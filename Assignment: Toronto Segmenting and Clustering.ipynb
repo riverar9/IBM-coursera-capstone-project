{
    "cells": [
        {
            "cell_type": "markdown",
            "metadata": {
                "collapsed": true
            },
            "source": "# Peer-graded Assignment: Segmenting and Clustering Neighborhoods in Toronto\n"
        },
        {
            "cell_type": "markdown",
            "metadata": {},
            "source": "## 1. Download data from the Wikipedia page\nWe'll use the beautifulsoup package to download the table"
        },
        {
            "cell_type": "code",
            "execution_count": 1,
            "metadata": {},
            "outputs": [],
            "source": "from bs4 import BeautifulSoup\nimport requests\nimport pandas as pd"
        },
        {
            "cell_type": "code",
            "execution_count": 2,
            "metadata": {},
            "outputs": [],
            "source": "# Get the text at the wikipedia website\nwiki_page_url = \"https://en.wikipedia.org/wiki/List_of_postal_codes_of_Canada:_M\"\n\nwiki_page_text = requests.get(wiki_page_url).text"
        },
        {
            "cell_type": "code",
            "execution_count": 3,
            "metadata": {},
            "outputs": [],
            "source": "# Use BeautifulSoup to isolate the table and save it as a list of strings\nsoup = BeautifulSoup(wiki_page_text,'lxml')\n\ntable = soup.find('table',{'class':'wikitable sortable'})\n\neach_row = table.text.split('\\n')"
        },
        {
            "cell_type": "code",
            "execution_count": 4,
            "metadata": {},
            "outputs": [],
            "source": "# Iterate through each row to cfeate a list where each element is one \"row\" in the wikipedia table\nindex = 0\noutput = [[]]\nfor row in each_row:\n    if row != \"\":\n        output[index].append(row)\n    if len(output[index]) == 3:\n        index += 1\n        output.append([])"
        },
        {
            "cell_type": "code",
            "execution_count": 5,
            "metadata": {},
            "outputs": [],
            "source": "# Convert the list to the dataframe\ndf = pd.DataFrame(output)\n\nheader = df.iloc[0]\ndf = df[1:]\ndf.columns = header"
        },
        {
            "cell_type": "code",
            "execution_count": 10,
            "metadata": {},
            "outputs": [],
            "source": "# Apply the transformations noted in the prompt. IE, removing \"Not assbouroughs \ndf = df[df['Borough'] !='Not assigned']\n\ndf.loc[(df['Neighbourhood'] == 'Not assigned'), 'Neighbourhood'] = df['Borough']"
        },
        {
            "cell_type": "code",
            "execution_count": 14,
            "metadata": {},
            "outputs": [
                {
                    "name": "stdout",
                    "output_type": "stream",
                    "text": "The shape of this dataframe is:\n(104, 3)\n"
                }
            ],
            "source": "print('The shape of this dataframe is:\\n{}'.format(df.shape))"
        },
        {
            "cell_type": "code",
            "execution_count": null,
            "metadata": {},
            "outputs": [],
            "source": ""
        }
    ],
    "metadata": {
        "kernelspec": {
            "display_name": "Python 3.7",
            "language": "python",
            "name": "python3"
        },
        "language_info": {
            "codemirror_mode": {
                "name": "ipython",
                "version": 3
            },
            "file_extension": ".py",
            "mimetype": "text/x-python",
            "name": "python",
            "nbconvert_exporter": "python",
            "pygments_lexer": "ipython3",
            "version": "3.7.9"
        }
    },
    "nbformat": 4,
    "nbformat_minor": 1
}