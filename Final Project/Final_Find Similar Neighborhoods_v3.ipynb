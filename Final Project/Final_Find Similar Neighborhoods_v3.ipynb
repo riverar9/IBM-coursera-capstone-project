{
    "cells": [
        {
            "metadata": {
                "collapsed": true
            },
            "cell_type": "markdown",
            "source": "# 0. Importing Libraries"
        },
        {
            "metadata": {},
            "cell_type": "code",
            "source": "!pip install bs4\nimport requests\nfrom bs4 import BeautifulSoup\nimport pandas as pd\nfrom geopy.geocoders import Nominatim\nimport geopy\nfrom IPython.display import clear_output",
            "execution_count": 1,
            "outputs": [
                {
                    "output_type": "stream",
                    "text": "Requirement already satisfied: bs4 in /opt/conda/envs/Python-3.7-main/lib/python3.7/site-packages (0.0.1)\r\nRequirement already satisfied: beautifulsoup4 in /opt/conda/envs/Python-3.7-main/lib/python3.7/site-packages (from bs4) (4.9.1)\r\nRequirement already satisfied: soupsieve>1.2 in /opt/conda/envs/Python-3.7-main/lib/python3.7/site-packages (from beautifulsoup4->bs4) (2.0.1)\r\n",
                    "name": "stdout"
                }
            ]
        },
        {
            "metadata": {},
            "cell_type": "markdown",
            "source": "# 1. Set up the scraping"
        },
        {
            "metadata": {},
            "cell_type": "code",
            "source": "# The airbnb page with the cities to scrape\nairbnb_neighborhood_url = 'https://www.airbnb.com/locations'\n\n# get the url text\ncity_page = requests.get(airbnb_neighborhood_url).text\n\n# convert webpage to a beautifulsoup object\nsoup = BeautifulSoup(city_page, 'html.parser')\n\n# print the html item in pretty form\n#print(soup.prettify())",
            "execution_count": 2,
            "outputs": []
        },
        {
            "metadata": {},
            "cell_type": "code",
            "source": "# Inputs needed. The tags change on this site (probably to discourage scraping)\n\n# To get around this, search the previously printed soup and search for the h2 tag used for cities and the div tag used for neighborhoods.\n#    The easiest way is to look for \"Austin\" as a city and \"Barton Hills\" as a neighborhood\n\ncity_tag = '<h2 class=\"_1tz64lh\">'\nneighborhood_tag = '<div class=\"_17ajzb82\">'",
            "execution_count": 3,
            "outputs": []
        },
        {
            "metadata": {},
            "cell_type": "code",
            "source": "# Convert the HTML to a list splitting by a tag open\nsite_html = soup.prettify().split('<')\n\n# Create an empty list for data\nmined_data = []\n\n# Iterate through each city and extract each neighborhood\nfor each_row in site_html:\n    if city_tag[1:] in each_row:\n        loop_city = each_row.replace(city_tag[1:],'').replace('  ','').replace('\\n','')[1:]\n    if neighborhood_tag[1:] in each_row:\n        loop_neighborhood = each_row.replace(neighborhood_tag[1:],'').replace('  ','').replace('\\n','')[:-1]\n        mined_data.append(\n            [loop_city, loop_neighborhood, loop_neighborhood + \", \" + loop_city]\n        )",
            "execution_count": 4,
            "outputs": []
        },
        {
            "metadata": {},
            "cell_type": "code",
            "source": "\n# get the coordinates for each location by iterating through each one\ngeolocator = geopy.geocoders.Nominatim(user_agent=\"myGeocoder\")\n\nmined_data_len = len(mined_data)\ncount = 0\n\n# Iterate through each neighborhood\nfor each_loc in mined_data:\n    count +=1\n    clear_output(wait=True)\n    print(\"On item {}/{}: {}\".format(count, mined_data_len, each_loc[2]))\n    \n    valid_response = False\n    attempt = 0\n    while not(valid_response):\n        attempt += 1\n        try:\n            each_loc_coords = geolocator.geocode(each_loc[2])\n        except:\n            each_loc_coords = None\n        if each_loc_coords is not None:\n            valid_response  = True\n            each_loc_lat    = each_loc_coords.latitude\n            each_loc_long   = each_loc_coords.longitude\n    \n            each_loc.append(each_loc_lat)\n            each_loc.append(each_loc_long)\n        else:\n            print('\\tAttempt {}'.format(attempt))\n        if attempt >= 5:\n            print('\\tBreaking and moving on.')\n            break\n        \n    ",
            "execution_count": 5,
            "outputs": [
                {
                    "output_type": "stream",
                    "text": "On item 561/561: Victory Monument, Bangkok\n",
                    "name": "stdout"
                }
            ]
        },
        {
            "metadata": {},
            "cell_type": "code",
            "source": "# Used the mined data to create the dataset\nneighborhoods_df = pd.DataFrame(mined_data, columns=['city','neighborhood','full_name','latitude','longitude'])\n\n# Drop any records that are null\nneighborhoods_df.dropna(inplace=True)\n\n# Check out the first 5 rows\nneighborhoods_df.head()",
            "execution_count": 6,
            "outputs": [
                {
                    "output_type": "execute_result",
                    "execution_count": 6,
                    "data": {
                        "text/plain": "     city   neighborhood              full_name   latitude  longitude\n0  Austin   Barton Hills   Barton Hills, Austin  30.251571 -97.784106\n1  Austin  Bouldin Creek  Bouldin Creek, Austin  30.255667 -97.755481\n2  Austin    Clarksville    Clarksville, Austin  30.277680 -97.759807\n3  Austin         Dawson         Dawson, Austin  30.232926 -97.761418\n4  Austin       Downtown       Downtown, Austin  30.268054 -97.744764",
                        "text/html": "<div>\n<style scoped>\n    .dataframe tbody tr th:only-of-type {\n        vertical-align: middle;\n    }\n\n    .dataframe tbody tr th {\n        vertical-align: top;\n    }\n\n    .dataframe thead th {\n        text-align: right;\n    }\n</style>\n<table border=\"1\" class=\"dataframe\">\n  <thead>\n    <tr style=\"text-align: right;\">\n      <th></th>\n      <th>city</th>\n      <th>neighborhood</th>\n      <th>full_name</th>\n      <th>latitude</th>\n      <th>longitude</th>\n    </tr>\n  </thead>\n  <tbody>\n    <tr>\n      <th>0</th>\n      <td>Austin</td>\n      <td>Barton Hills</td>\n      <td>Barton Hills, Austin</td>\n      <td>30.251571</td>\n      <td>-97.784106</td>\n    </tr>\n    <tr>\n      <th>1</th>\n      <td>Austin</td>\n      <td>Bouldin Creek</td>\n      <td>Bouldin Creek, Austin</td>\n      <td>30.255667</td>\n      <td>-97.755481</td>\n    </tr>\n    <tr>\n      <th>2</th>\n      <td>Austin</td>\n      <td>Clarksville</td>\n      <td>Clarksville, Austin</td>\n      <td>30.277680</td>\n      <td>-97.759807</td>\n    </tr>\n    <tr>\n      <th>3</th>\n      <td>Austin</td>\n      <td>Dawson</td>\n      <td>Dawson, Austin</td>\n      <td>30.232926</td>\n      <td>-97.761418</td>\n    </tr>\n    <tr>\n      <th>4</th>\n      <td>Austin</td>\n      <td>Downtown</td>\n      <td>Downtown, Austin</td>\n      <td>30.268054</td>\n      <td>-97.744764</td>\n    </tr>\n  </tbody>\n</table>\n</div>"
                    },
                    "metadata": {}
                }
            ]
        },
        {
            "metadata": {},
            "cell_type": "code",
            "source": "# Code cell for the user to input their neighborhood and travel city\nvalid_city = False\nvalid_neighborhood = False\n\nwhile not valid_city:\n    clear_output(wait=True)\n    input_city = input('Which city did you like travelling to? Valid options are: \\n{}\\n'.format(', '.join(list(neighborhoods_df['city'].unique()))))\n\n    if input_city in list(neighborhoods_df['city']):\n        clear_output(wait=True)\n        valid_city = True\n        \n        while not valid_neighborhood:\n            filtered_neighborhoods = list(neighborhoods_df[neighborhoods_df['city'] == input_city]['neighborhood'].unique())\n            input_neighborhood = input('\\nWhich neighborhood did you like? Valid options are: \\n{}\\n'.format(', '.join(filtered_neighborhoods)))\n            \n            if input_neighborhood in filtered_neighborhoods:\n                clear_output(wait=True)\n                print(\"\\n\\nWe'll be using {} in {} as a baseline. Thank you!\".format(input_neighborhood,input_city))\n                valid_neighborhood = True\n            else:\n                clear_output(wait=True)\n                print(\"This isn't a valid neighborood, please select another.\\n\\n\")\n            \n        \n    else:\n        print(\"This isn't a valid city, please select another.\\n\\n\")",
            "execution_count": 7,
            "outputs": [
                {
                    "output_type": "stream",
                    "text": "\n\nWe'll be using Downtown Brooklyn in New York as a baseline. Thank you!\n",
                    "name": "stdout"
                }
            ]
        },
        {
            "metadata": {},
            "cell_type": "code",
            "source": "# Have the user input the city they are travelling to\nvalid_target = False\n\nwhile not valid_target:\n    clear_output(wait=True)\n    input_target_city = input('Which city are you travelling to? Valid options are: \\n{}\\n'.format(', '.join(list(neighborhoods_df['city'].unique()))))\n    \n    if input_target_city in list(neighborhoods_df['city']):\n        clear_output(wait=True)\n        valid_target = True\n        print('I see, we liked {}, {} and we are going to {}. Exciting!'.format(input_neighborhood, input_city, input_target_city))\n    else:\n        clear_output(wait=True)\n        print(\"Sorry, this isn't a valid city. Please select another.\\n\\n\")",
            "execution_count": 8,
            "outputs": [
                {
                    "output_type": "stream",
                    "text": "I see, we liked Downtown Brooklyn, New York and we are going to San Francisco. Exciting!\n",
                    "name": "stdout"
                }
            ]
        },
        {
            "metadata": {},
            "cell_type": "code",
            "source": "# This Cell was hidden by Watson.",
            "execution_count": 9,
            "outputs": []
        },
        {
            "metadata": {},
            "cell_type": "code",
            "source": "# Create a function to return venues.\ndef getNearbyVenues(names, latitudes, longitudes, radius=500, limit=10000):\n    \n    venues_list=[]\n    for name, lat, lng in zip(names, latitudes, longitudes):\n        print(name)\n            \n        # create the API request URL\n        url = 'https://api.foursquare.com/v2/venues/explore?&client_id={}&client_secret={}&v={}&ll={},{}&radius={}&limit={}'.format(\n            CLIENT_ID, \n            CLIENT_SECRET, \n            VERSION, \n            lat, \n            lng, \n            radius, \n            limit)\n            \n        # make the GET request\n        results = requests.get(url).json()[\"response\"]['groups'][0]['items']\n        \n        # return only relevant information for each nearby venue\n        venues_list.append([(\n            name, \n            lat, \n            lng, \n            v['venue']['name'], \n            v['venue']['location']['lat'], \n            v['venue']['location']['lng'],  \n            v['venue']['categories'][0]['name']) for v in results])\n\n    nearby_venues = pd.DataFrame([item for venue_list in venues_list for item in venue_list])\n    nearby_venues.columns = ['Neighborhood', \n                  'Neighborhood Latitude', \n                  'Neighborhood Longitude', \n                  'Venue', \n                  'Venue Latitude', \n                  'Venue Longitude', \n                  'Venue Category']\n    \n    return(nearby_venues, url)",
            "execution_count": 10,
            "outputs": []
        },
        {
            "metadata": {},
            "cell_type": "code",
            "source": "# Create a dataframe of just the target city and neighborhoods\ntarget_df = neighborhoods_df.copy()\ntarget_df = target_df[target_df['city'] == input_target_city]\n\n# Create a dataframe with the baseline city.\nbaseline_df = neighborhoods_df[(neighborhoods_df['city'] == input_city) & (neighborhoods_df['neighborhood'] == input_neighborhood)].copy()",
            "execution_count": 11,
            "outputs": []
        },
        {
            "metadata": {},
            "cell_type": "code",
            "source": "# Get venues for all the neighborhoods in the target city\ntarget_venues, target_urls = getNearbyVenues(\n    names = target_df['neighborhood']\n    , latitudes = target_df['latitude']\n    , longitudes = target_df['longitude']\n    , radius = 500\n)\n\n# Get the venues for the baseline neighborhood\nbaseline_venues, baseline_urls = getNearbyVenues(\n    names = baseline_df['neighborhood']\n    , latitudes = baseline_df['latitude']\n    , longitudes = baseline_df['longitude']\n    , radius = 500\n)",
            "execution_count": 12,
            "outputs": [
                {
                    "output_type": "stream",
                    "text": "Alamo Square\nBayview\nBernal Heights\nChinatown\nCivic Center\nCole Valley\nCow Hollow\nDogpatch\nDowntown\nDuboce Triangle\nExcelsior\nFinancial District\nFisherman's Wharf\nGlen Park\nHaight-Ashbury\nHayes Valley\nInner Sunset\nJapantown\nLower Haight\nMarina\nMission Bay\nMission District\nMission Terrace\nNob Hill\nNoe Valley\nNorth Beach\nOuter Sunset\nPacific Heights\nParkside\nPortola\nPotrero Hill\nPresidio Heights\nRichmond District\nRussian Hill\nSoMa\nSouth Beach\nTelegraph Hill\nTenderloin\nThe Castro\nTwin Peaks\nVisitacion Valley\nWestern Addition\nDowntown Brooklyn\n",
                    "name": "stdout"
                }
            ]
        },
        {
            "metadata": {},
            "cell_type": "code",
            "source": "# inspect the shape of each venues dataframe\nprint(target_venues.shape)\nprint(baseline_venues.shape)",
            "execution_count": 13,
            "outputs": [
                {
                    "output_type": "stream",
                    "text": "(2347, 7)\n(100, 7)\n",
                    "name": "stdout"
                }
            ]
        },
        {
            "metadata": {},
            "cell_type": "code",
            "source": "# Determine the number of unique venues\nprint('Unique Categories:\\n\\tBaseline:\\t{}\\n\\tTarget:\\t\\t{}'.format(len(baseline_venues['Venue Category'].unique()),len(target_venues['Venue Category'].unique())))",
            "execution_count": 14,
            "outputs": [
                {
                    "output_type": "stream",
                    "text": "Unique Categories:\n\tBaseline:\t67\n\tTarget:\t\t305\n",
                    "name": "stdout"
                }
            ]
        },
        {
            "metadata": {},
            "cell_type": "code",
            "source": "# See how many similar venues there are\nsimilar_count = 0\nsimilar_venue = []\nfor each_baseline_venue in list(baseline_venues['Venue Category'].unique()):\n    if each_baseline_venue in list(target_venues['Venue Category'].unique()):\n        similar_count += 1\n        similar_venue.append(each_baseline_venue)\n        \nprint('There are {} similar venues. They are:\\n{}'.format(similar_count, ', '.join(similar_venue)))",
            "execution_count": 15,
            "outputs": [
                {
                    "output_type": "stream",
                    "text": "There are 62 similar venues. They are:\nChinese Restaurant, Burger Joint, Juice Bar, Cuban Restaurant, Plaza, Movie Theater, Mediterranean Restaurant, Bubble Tea Shop, Hotel, History Museum, Cycle Studio, Thai Restaurant, Pizza Place, Food Court, Brewery, Gym, Japanese Restaurant, Farmers Market, Grocery Store, Bagel Shop, Ice Cream Shop, Big Box Store, Shopping Mall, Concert Hall, Sandwich Place, Yoga Studio, Cocktail Bar, Toy / Game Store, Coffee Shop, Seafood Restaurant, Peruvian Restaurant, Wine Shop, Cosmetics Shop, Park, Discount Store, Restaurant, Vietnamese Restaurant, Caf\u00e9, Residential Building (Apartment / Condo), Wine Bar, Creperie, French Restaurant, Gym / Fitness Center, Burrito Place, Health & Beauty Service, Bookstore, Beer Bar, Bank, Mexican Restaurant, Bakery, Middle Eastern Restaurant, Hawaiian Restaurant, Asian Restaurant, Kids Store, Southern / Soul Food Restaurant, BBQ Joint, South American Restaurant, Optical Shop, Dance Studio, Performing Arts Venue, Pakistani Restaurant, American Restaurant\n",
                    "name": "stdout"
                }
            ]
        },
        {
            "metadata": {},
            "cell_type": "code",
            "source": "# One hot encode both the target and baseline\ntarget_onehot = pd.get_dummies(target_venues[['Venue Category']], prefix=\"\", prefix_sep=\"\")\nbaseline_onehot = pd.get_dummies(baseline_venues[['Venue Category']], prefix=\"\", prefix_sep=\"\")\n\n# Add the neighborhood field back\ntarget_onehot['Neighborhood'] = target_venues['Neighborhood']\nbaseline_onehot['Neighborhood'] = baseline_venues['Neighborhood']",
            "execution_count": 16,
            "outputs": []
        },
        {
            "metadata": {},
            "cell_type": "code",
            "source": "# Grouby and normalize the baseline and target dataframes\ntarget_grouped = target_onehot.groupby('Neighborhood').mean().reset_index()\nbaseline_grouped = baseline_onehot.groupby('Neighborhood').mean().reset_index()\n\nbaseline_grouped",
            "execution_count": 17,
            "outputs": [
                {
                    "output_type": "execute_result",
                    "execution_count": 17,
                    "data": {
                        "text/plain": "        Neighborhood  American Restaurant  Asian Restaurant  BBQ Joint  \\\n0  Downtown Brooklyn                 0.01              0.01       0.01   \n\n   Bagel Shop  Bakery  Bank  Beer Bar  Big Box Store  Bistro  ...  \\\n0        0.02    0.01  0.01      0.01           0.01    0.01  ...   \n\n   Shanghai Restaurant  Shopping Mall  South American Restaurant  \\\n0                 0.01           0.01                       0.01   \n\n   Southern / Soul Food Restaurant  Thai Restaurant  Toy / Game Store  \\\n0                             0.01             0.01              0.01   \n\n   Vietnamese Restaurant  Wine Bar  Wine Shop  Yoga Studio  \n0                   0.01      0.01       0.03         0.03  \n\n[1 rows x 68 columns]",
                        "text/html": "<div>\n<style scoped>\n    .dataframe tbody tr th:only-of-type {\n        vertical-align: middle;\n    }\n\n    .dataframe tbody tr th {\n        vertical-align: top;\n    }\n\n    .dataframe thead th {\n        text-align: right;\n    }\n</style>\n<table border=\"1\" class=\"dataframe\">\n  <thead>\n    <tr style=\"text-align: right;\">\n      <th></th>\n      <th>Neighborhood</th>\n      <th>American Restaurant</th>\n      <th>Asian Restaurant</th>\n      <th>BBQ Joint</th>\n      <th>Bagel Shop</th>\n      <th>Bakery</th>\n      <th>Bank</th>\n      <th>Beer Bar</th>\n      <th>Big Box Store</th>\n      <th>Bistro</th>\n      <th>...</th>\n      <th>Shanghai Restaurant</th>\n      <th>Shopping Mall</th>\n      <th>South American Restaurant</th>\n      <th>Southern / Soul Food Restaurant</th>\n      <th>Thai Restaurant</th>\n      <th>Toy / Game Store</th>\n      <th>Vietnamese Restaurant</th>\n      <th>Wine Bar</th>\n      <th>Wine Shop</th>\n      <th>Yoga Studio</th>\n    </tr>\n  </thead>\n  <tbody>\n    <tr>\n      <th>0</th>\n      <td>Downtown Brooklyn</td>\n      <td>0.01</td>\n      <td>0.01</td>\n      <td>0.01</td>\n      <td>0.02</td>\n      <td>0.01</td>\n      <td>0.01</td>\n      <td>0.01</td>\n      <td>0.01</td>\n      <td>0.01</td>\n      <td>...</td>\n      <td>0.01</td>\n      <td>0.01</td>\n      <td>0.01</td>\n      <td>0.01</td>\n      <td>0.01</td>\n      <td>0.01</td>\n      <td>0.01</td>\n      <td>0.01</td>\n      <td>0.03</td>\n      <td>0.03</td>\n    </tr>\n  </tbody>\n</table>\n<p>1 rows \u00d7 68 columns</p>\n</div>"
                    },
                    "metadata": {}
                }
            ]
        },
        {
            "metadata": {},
            "cell_type": "code",
            "source": "# Let's look at some of the most common venues!\nbaseline_grouped.melt(id_vars='Neighborhood', var_name='Venue').sort_values(by='value', ascending=False).rename(columns={'value':'Frequency'}).head()\n\n# Get the most common venues for the target city\nnum_top_venues = 5\n\nfor each_hood in target_grouped['Neighborhood']:\n    print(\"----\"+each_hood+\"----\")\n    temp = target_grouped[target_grouped['Neighborhood'] == each_hood].T.reset_index()\n    temp.columns = ['venue','freq']\n    temp = temp.iloc[1:]\n    temp['freq'] = temp['freq'].astype(float)\n    temp = temp.round({'freq': 2})\n    print(temp.sort_values('freq', ascending=False).reset_index(drop=True).head(num_top_venues))\n    print('\\n')",
            "execution_count": 18,
            "outputs": [
                {
                    "output_type": "stream",
                    "text": "----Alamo Square----\n              venue  freq\n0               Bar  0.06\n1  Sushi Restaurant  0.03\n2       Record Shop  0.03\n3              Caf\u00e9  0.03\n4             Hotel  0.03\n\n\n----Bayview----\n                venue  freq\n0  Light Rail Station  0.25\n1      Breakfast Spot  0.25\n2            Mountain  0.25\n3                Park  0.25\n4   Accessories Store  0.00\n\n\n----Bernal Heights----\n                venue  freq\n0         Coffee Shop  0.05\n1  Italian Restaurant  0.04\n2              Bakery  0.04\n3  Mexican Restaurant  0.04\n4          Playground  0.04\n\n\n----Chinatown----\n         venue  freq\n0  Coffee Shop  0.12\n1        Hotel  0.06\n2         Caf\u00e9  0.04\n3          Bar  0.04\n4       Bakery  0.03\n\n\n----Civic Center----\n                           venue  freq\n0                    Coffee Shop  0.07\n1                          Hotel  0.06\n2          Vietnamese Restaurant  0.06\n3                           Caf\u00e9  0.06\n4  Vegetarian / Vegan Restaurant  0.04\n\n\n----Cole Valley----\n                    venue  freq\n0                Wine Bar  0.04\n1          Breakfast Spot  0.04\n2  Thrift / Vintage Store  0.04\n3               Bookstore  0.04\n4               Gift Shop  0.04\n\n\n----Cow Hollow----\n                  venue  freq\n0        Cosmetics Shop  0.06\n1              Wine Bar  0.04\n2  Gym / Fitness Center  0.04\n3        Sandwich Place  0.03\n4     French Restaurant  0.03\n\n\n----Dogpatch----\n                  venue  freq\n0              Wine Bar  0.05\n1  Gym / Fitness Center  0.05\n2                   Bar  0.03\n3                  Park  0.03\n4                  Caf\u00e9  0.03\n\n\n----Downtown----\n            venue  freq\n0           Hotel  0.08\n1  Clothing Store  0.07\n2        Boutique  0.05\n3             Spa  0.04\n4     Coffee Shop  0.04\n\n\n----Duboce Triangle----\n                     venue  freq\n0              Coffee Shop  0.06\n1            Grocery Store  0.05\n2                  Gay Bar  0.05\n3  New American Restaurant  0.05\n4         Sushi Restaurant  0.03\n\n\n----Excelsior----\n                       venue  freq\n0         Mexican Restaurant  0.11\n1                     Bakery  0.09\n2      Vietnamese Restaurant  0.07\n3  Latin American Restaurant  0.04\n4          Convenience Store  0.04\n\n\n----Financial District----\n                  venue  freq\n0           Coffee Shop  0.07\n1           Men's Store  0.04\n2  Gym / Fitness Center  0.04\n3   Japanese Restaurant  0.04\n4                   Gym  0.04\n\n\n----Fisherman's Wharf----\n                      venue  freq\n0             Tour Provider  0.08\n1            Ice Cream Shop  0.08\n2  Bike Rental / Bike Share  0.05\n3             Historic Site  0.05\n4                  Pharmacy  0.05\n\n\n----Glen Park----\n         venue  freq\n0         Caf\u00e9  0.07\n1         Park  0.07\n2  Coffee Shop  0.07\n3    Gift Shop  0.04\n4  Pizza Place  0.04\n\n\n----Haight-Ashbury----\n                    venue  freq\n0                    Caf\u00e9  0.07\n1                Boutique  0.06\n2  Thrift / Vintage Store  0.05\n3          Clothing Store  0.04\n4             Coffee Shop  0.04\n\n\n----Hayes Valley----\n               venue  freq\n0           Wine Bar  0.06\n1           Boutique  0.04\n2        Pizza Place  0.04\n3   Sushi Restaurant  0.04\n4  French Restaurant  0.04\n\n\n----Inner Sunset----\n            venue  freq\n0     Pizza Place  0.05\n1  Ice Cream Shop  0.05\n2     Coffee Shop  0.05\n3  Sandwich Place  0.05\n4          Bakery  0.05\n\n\n----Japantown----\n           venue  freq\n0         Bakery  0.05\n1      Gift Shop  0.05\n2            Spa  0.04\n3       Tea Room  0.04\n4  Grocery Store  0.04\n\n\n----Lower Haight----\n              venue  freq\n0          Dive Bar  0.05\n1       Coffee Shop  0.05\n2   Thai Restaurant  0.04\n3         Pet Store  0.04\n4  Sushi Restaurant  0.04\n\n\n----Marina----\n                venue  freq\n0               Plaza   0.5\n1            Mountain   0.5\n2   Accessories Store   0.0\n3  Persian Restaurant   0.0\n4     Photography Lab   0.0\n\n\n----Mission Bay----\n         venue  freq\n0   Food Truck  0.20\n1          Gym  0.08\n2         Park  0.05\n3  Coffee Shop  0.05\n4     Pharmacy  0.04\n\n\n----Mission District----\n                       venue  freq\n0                        Bar  0.05\n1         Mexican Restaurant  0.05\n2               Cocktail Bar  0.04\n3  Latin American Restaurant  0.03\n4                     Bakery  0.03\n\n\n----Mission Terrace----\n                venue  freq\n0          Laundromat  0.25\n1       Grocery Store  0.25\n2            Wine Bar  0.25\n3                Park  0.25\n4  Persian Restaurant  0.00\n\n\n----Nob Hill----\n                venue  freq\n0               Hotel  0.08\n1                Caf\u00e9  0.06\n2  Italian Restaurant  0.06\n3                 Bar  0.06\n4         Coffee Shop  0.06\n\n\n----Noe Valley----\n                venue  freq\n0              Bakery  0.05\n1           Bookstore  0.05\n2           Gift Shop  0.05\n3  Italian Restaurant  0.04\n4                Caf\u00e9  0.04\n\n\n----North Beach----\n                venue  freq\n0  Italian Restaurant  0.07\n1                Caf\u00e9  0.07\n2         Pizza Place  0.07\n3         Coffee Shop  0.05\n4  Chinese Restaurant  0.04\n\n\n----Outer Sunset----\n                venue  freq\n0     Thai Restaurant   0.1\n1   Convenience Store   0.1\n2    Sushi Restaurant   0.1\n3  Chinese Restaurant   0.1\n4          Playground   0.1\n\n\n----Pacific Heights----\n                venue  freq\n0       Grocery Store  0.06\n1      Sandwich Place  0.05\n2      Cosmetics Shop  0.05\n3                 Spa  0.03\n4  Italian Restaurant  0.03\n\n\n----Parkside----\n                  venue  freq\n0                  Lake  0.25\n1                   Bar  0.25\n2  Gym / Fitness Center  0.25\n3                  Park  0.25\n4     Accessories Store  0.00\n\n\n----Portola----\n                   venue  freq\n0  Vietnamese Restaurant  0.12\n1     Dim Sum Restaurant  0.08\n2     Chinese Restaurant  0.08\n3         Sandwich Place  0.08\n4                 Bakery  0.08\n\n\n----Potrero Hill----\n            venue  freq\n0   Grocery Store  0.13\n1            Park  0.13\n2    Liquor Store  0.07\n3  Cosmetics Shop  0.07\n4            Caf\u00e9  0.07\n\n\n----Presidio Heights----\n                       venue  freq\n0        American Restaurant  0.08\n1         Italian Restaurant  0.08\n2                 Playground  0.08\n3  Latin American Restaurant  0.04\n4                  Bookstore  0.04\n\n\n----Richmond District----\n                       venue  freq\n0         Chinese Restaurant  0.06\n1           Asian Restaurant  0.06\n2                     Bakery  0.06\n3                Coffee Shop  0.04\n4  Japanese Curry Restaurant  0.04\n\n\n----Russian Hill----\n                venue  freq\n0  Italian Restaurant  0.11\n1                Park  0.11\n2         Coffee Shop  0.05\n3                Caf\u00e9  0.05\n4            Wine Bar  0.05\n\n\n----SoMa----\n                  venue  freq\n0           Pizza Place  0.05\n1                   Spa  0.04\n2           Coffee Shop  0.04\n3  Gym / Fitness Center  0.03\n4             Nightclub  0.03\n\n\n----South Beach----\n                venue  freq\n0    Baseball Stadium  0.08\n1         Coffee Shop  0.07\n2                Caf\u00e9  0.06\n3                 Gym  0.05\n4  Mexican Restaurant  0.04\n\n\n----Telegraph Hill----\n                     venue  freq\n0                     Caf\u00e9  0.06\n1       Italian Restaurant  0.06\n2              Pizza Place  0.06\n3              Coffee Shop  0.05\n4  New American Restaurant  0.03\n\n\n----Tenderloin----\n                   venue  freq\n0            Coffee Shop  0.07\n1                Theater  0.06\n2  Vietnamese Restaurant  0.05\n3            Art Gallery  0.04\n4      Korean Restaurant  0.04\n\n\n----The Castro----\n                venue  freq\n0            Mountain   1.0\n1   Accessories Store   0.0\n2  Persian Restaurant   0.0\n3  Photography Studio   0.0\n4     Photography Lab   0.0\n\n\n----Twin Peaks----\n            venue  freq\n0           Trail  0.38\n1  Scenic Lookout  0.23\n2     Tailor Shop  0.08\n3       Reservoir  0.08\n4     Bus Station  0.08\n\n\n----Visitacion Valley----\n                   venue  freq\n0             Laundromat  0.25\n1  Vietnamese Restaurant  0.25\n2     Chinese Restaurant  0.25\n3             Playground  0.25\n4             Restaurant  0.00\n\n\n----Western Addition----\n               venue  freq\n0      Grocery Store  0.09\n1       Liquor Store  0.09\n2            Theater  0.04\n3  French Restaurant  0.04\n4           Boutique  0.04\n\n\n",
                    "name": "stdout"
                }
            ]
        },
        {
            "metadata": {},
            "cell_type": "code",
            "source": "# check the shape of the target and baseline grouped\nprint('Baseline Shape:\\t{}'.format(baseline_grouped.shape))\nprint('Target Shape:\\t{}'.format(target_grouped.shape))",
            "execution_count": 19,
            "outputs": [
                {
                    "output_type": "stream",
                    "text": "Baseline Shape:\t(1, 68)\nTarget Shape:\t(42, 305)\n",
                    "name": "stdout"
                }
            ]
        },
        {
            "metadata": {},
            "cell_type": "code",
            "source": "# Transpose the grouped baseline neighborhood\nbaseline_grouped_t = baseline_grouped.melt(id_vars='Neighborhood')\n\n# Declare a variable to store the result\nsimilarity_result = []\n\n# Iterate through each neighborhood in the target city and calculate the euclidean distance\nfor each_target_hood in list(target_grouped['Neighborhood'].unique()):\n    temp_hood = target_grouped[target_grouped['Neighborhood'] == each_target_hood].copy()\n    \n    # Drop each column that doesn't exist in the baseline neighborhood\n    for each_target_col in list(temp_hood.columns):\n        if each_target_col not in list(baseline_grouped.columns):\n            temp_hood.drop(columns=each_target_col, inplace=True)\n    \n    # Transpose the target neighborhood\n    temp_hood_t = temp_hood.melt(id_vars='Neighborhood')\n    \n    # Merge the target transposed to the baseline transposed\n    hood_compare_df = temp_hood_t.merge(baseline_grouped_t, on='variable',how='outer')\n    \n    # fill NaN values with 0\n    hood_compare_df.fillna(0, inplace=True)\n    \n    # Calculate the euclidean distance by squaring the difference between rows, gathering the sum and squarerooting the sum.\n    hood_compare_df['euc_dis'] = (hood_compare_df['value_x']-hood_compare_df['value_y'])**2\n    euc_dist = hood_compare_df['euc_dis'].sum()**0.5\n    \n    similarity_result.append(\n        [\n            each_target_hood,\n            euc_dist\n        ]\n    )\n\nsimilarity_df = pd.DataFrame(similarity_result, columns=['neighborhood','euclidean_distance'])",
            "execution_count": 20,
            "outputs": []
        },
        {
            "metadata": {},
            "cell_type": "code",
            "source": "# Get the best neighborhood\nrecommended_neighborhood = similarity_df.sort_values(by='euclidean_distance')['neighborhood'].values[0]\nrecommended_score = similarity_df.sort_values(by='euclidean_distance')['euclidean_distance'].values[0]\n\n# Inspect the top 5 most similar neighborhoods.\nsimilarity_df.sort_values(by='euclidean_distance').head(5)",
            "execution_count": 21,
            "outputs": [
                {
                    "output_type": "execute_result",
                    "execution_count": 21,
                    "data": {
                        "text/plain": "       neighborhood  euclidean_distance\n34             SoMa            0.105086\n2    Bernal Heights            0.110682\n9   Duboce Triangle            0.115594\n0      Alamo Square            0.115635\n15     Hayes Valley            0.117898",
                        "text/html": "<div>\n<style scoped>\n    .dataframe tbody tr th:only-of-type {\n        vertical-align: middle;\n    }\n\n    .dataframe tbody tr th {\n        vertical-align: top;\n    }\n\n    .dataframe thead th {\n        text-align: right;\n    }\n</style>\n<table border=\"1\" class=\"dataframe\">\n  <thead>\n    <tr style=\"text-align: right;\">\n      <th></th>\n      <th>neighborhood</th>\n      <th>euclidean_distance</th>\n    </tr>\n  </thead>\n  <tbody>\n    <tr>\n      <th>34</th>\n      <td>SoMa</td>\n      <td>0.105086</td>\n    </tr>\n    <tr>\n      <th>2</th>\n      <td>Bernal Heights</td>\n      <td>0.110682</td>\n    </tr>\n    <tr>\n      <th>9</th>\n      <td>Duboce Triangle</td>\n      <td>0.115594</td>\n    </tr>\n    <tr>\n      <th>0</th>\n      <td>Alamo Square</td>\n      <td>0.115635</td>\n    </tr>\n    <tr>\n      <th>15</th>\n      <td>Hayes Valley</td>\n      <td>0.117898</td>\n    </tr>\n  </tbody>\n</table>\n</div>"
                    },
                    "metadata": {}
                }
            ]
        },
        {
            "metadata": {},
            "cell_type": "code",
            "source": "# Get the worst neighborhood\nworst_neighborhood = similarity_df.sort_values(by='euclidean_distance', ascending=False)['neighborhood'].values[0]\nworst_score = similarity_df.sort_values(by='euclidean_distance', ascending=False)['euclidean_distance'].values[0]\n\n# Inspect the top 5 most similar neighborhoods.\nsimilarity_df.sort_values(by='euclidean_distance', ascending=False).head(5)",
            "execution_count": 22,
            "outputs": [
                {
                    "output_type": "execute_result",
                    "execution_count": 22,
                    "data": {
                        "text/plain": "         neighborhood  euclidean_distance\n19             Marina            0.510686\n22    Mission Terrace            0.416293\n40  Visitacion Valley            0.361663\n28           Parkside            0.354683\n1             Bayview            0.261343",
                        "text/html": "<div>\n<style scoped>\n    .dataframe tbody tr th:only-of-type {\n        vertical-align: middle;\n    }\n\n    .dataframe tbody tr th {\n        vertical-align: top;\n    }\n\n    .dataframe thead th {\n        text-align: right;\n    }\n</style>\n<table border=\"1\" class=\"dataframe\">\n  <thead>\n    <tr style=\"text-align: right;\">\n      <th></th>\n      <th>neighborhood</th>\n      <th>euclidean_distance</th>\n    </tr>\n  </thead>\n  <tbody>\n    <tr>\n      <th>19</th>\n      <td>Marina</td>\n      <td>0.510686</td>\n    </tr>\n    <tr>\n      <th>22</th>\n      <td>Mission Terrace</td>\n      <td>0.416293</td>\n    </tr>\n    <tr>\n      <th>40</th>\n      <td>Visitacion Valley</td>\n      <td>0.361663</td>\n    </tr>\n    <tr>\n      <th>28</th>\n      <td>Parkside</td>\n      <td>0.354683</td>\n    </tr>\n    <tr>\n      <th>1</th>\n      <td>Bayview</td>\n      <td>0.261343</td>\n    </tr>\n  </tbody>\n</table>\n</div>"
                    },
                    "metadata": {}
                }
            ]
        },
        {
            "metadata": {},
            "cell_type": "code",
            "source": "print('Travelling to {}, your best bet is to stay in the \"{}\" neighborhood with a score of {}.\\n'.format(input_target_city, recommended_neighborhood, round(recommended_score,4)))\n\nprint('This is based on your experience in \"{}\", {}.'.format(input_neighborhood, input_city))",
            "execution_count": 23,
            "outputs": [
                {
                    "output_type": "stream",
                    "text": "Travelling to San Francisco, your best bet is to stay in the \"SoMa\" neighborhood with a score of 0.1051.\n\nThis is based on your experience in \"Downtown Brooklyn\", New York.\n",
                    "name": "stdout"
                }
            ]
        },
        {
            "metadata": {},
            "cell_type": "code",
            "source": "# Print info about the recommended neighborhood\nneighborhoods_df[((neighborhoods_df['city'] == input_target_city)|(neighborhoods_df['city'] == input_city)) & ((neighborhoods_df['neighborhood'] == recommended_neighborhood)|(neighborhoods_df['neighborhood'] == input_neighborhood))]",
            "execution_count": 24,
            "outputs": [
                {
                    "output_type": "execute_result",
                    "execution_count": 24,
                    "data": {
                        "text/plain": "              city       neighborhood                    full_name   latitude  \\\n54   San Francisco               SoMa          SoMa, San Francisco  37.780893   \n419       New York  Downtown Brooklyn  Downtown Brooklyn, New York  40.692373   \n\n      longitude  \n54  -122.400952  \n419  -73.986788  ",
                        "text/html": "<div>\n<style scoped>\n    .dataframe tbody tr th:only-of-type {\n        vertical-align: middle;\n    }\n\n    .dataframe tbody tr th {\n        vertical-align: top;\n    }\n\n    .dataframe thead th {\n        text-align: right;\n    }\n</style>\n<table border=\"1\" class=\"dataframe\">\n  <thead>\n    <tr style=\"text-align: right;\">\n      <th></th>\n      <th>city</th>\n      <th>neighborhood</th>\n      <th>full_name</th>\n      <th>latitude</th>\n      <th>longitude</th>\n    </tr>\n  </thead>\n  <tbody>\n    <tr>\n      <th>54</th>\n      <td>San Francisco</td>\n      <td>SoMa</td>\n      <td>SoMa, San Francisco</td>\n      <td>37.780893</td>\n      <td>-122.400952</td>\n    </tr>\n    <tr>\n      <th>419</th>\n      <td>New York</td>\n      <td>Downtown Brooklyn</td>\n      <td>Downtown Brooklyn, New York</td>\n      <td>40.692373</td>\n      <td>-73.986788</td>\n    </tr>\n  </tbody>\n</table>\n</div>"
                    },
                    "metadata": {}
                }
            ]
        },
        {
            "metadata": {},
            "cell_type": "code",
            "source": "baseline_grouped.melt(id_vars='Neighborhood').sort_values(by='value', ascending=False).head()",
            "execution_count": 25,
            "outputs": [
                {
                    "output_type": "execute_result",
                    "execution_count": 25,
                    "data": {
                        "text/plain": "         Neighborhood       variable  value\n12  Downtown Brooklyn   Burger Joint   0.05\n49  Downtown Brooklyn    Pizza Place   0.05\n17  Downtown Brooklyn    Coffee Shop   0.04\n34  Downtown Brooklyn          Hotel   0.03\n28  Downtown Brooklyn  Grocery Store   0.03",
                        "text/html": "<div>\n<style scoped>\n    .dataframe tbody tr th:only-of-type {\n        vertical-align: middle;\n    }\n\n    .dataframe tbody tr th {\n        vertical-align: top;\n    }\n\n    .dataframe thead th {\n        text-align: right;\n    }\n</style>\n<table border=\"1\" class=\"dataframe\">\n  <thead>\n    <tr style=\"text-align: right;\">\n      <th></th>\n      <th>Neighborhood</th>\n      <th>variable</th>\n      <th>value</th>\n    </tr>\n  </thead>\n  <tbody>\n    <tr>\n      <th>12</th>\n      <td>Downtown Brooklyn</td>\n      <td>Burger Joint</td>\n      <td>0.05</td>\n    </tr>\n    <tr>\n      <th>49</th>\n      <td>Downtown Brooklyn</td>\n      <td>Pizza Place</td>\n      <td>0.05</td>\n    </tr>\n    <tr>\n      <th>17</th>\n      <td>Downtown Brooklyn</td>\n      <td>Coffee Shop</td>\n      <td>0.04</td>\n    </tr>\n    <tr>\n      <th>34</th>\n      <td>Downtown Brooklyn</td>\n      <td>Hotel</td>\n      <td>0.03</td>\n    </tr>\n    <tr>\n      <th>28</th>\n      <td>Downtown Brooklyn</td>\n      <td>Grocery Store</td>\n      <td>0.03</td>\n    </tr>\n  </tbody>\n</table>\n</div>"
                    },
                    "metadata": {}
                }
            ]
        },
        {
            "metadata": {},
            "cell_type": "code",
            "source": "",
            "execution_count": null,
            "outputs": []
        }
    ],
    "metadata": {
        "kernelspec": {
            "name": "python3",
            "display_name": "Python 3.7",
            "language": "python"
        },
        "language_info": {
            "name": "python",
            "version": "3.7.10",
            "mimetype": "text/x-python",
            "codemirror_mode": {
                "name": "ipython",
                "version": 3
            },
            "pygments_lexer": "ipython3",
            "nbconvert_exporter": "python",
            "file_extension": ".py"
        }
    },
    "nbformat": 4,
    "nbformat_minor": 1
}
